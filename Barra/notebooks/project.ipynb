{
 "cells": [
  {
   "cell_type": "code",
   "execution_count": 5,
   "id": "bf114feb",
   "metadata": {},
   "outputs": [],
   "source": [
    "import sys\n",
    "sys.path.append('..')  # This adds the parent directory to the Python path\n",
    "\n",
    "from my_package.imports import *"
   ]
  },
  {
   "cell_type": "code",
   "execution_count": 8,
   "id": "936ed881",
   "metadata": {},
   "outputs": [],
   "source": [
    "# Import data\n",
    "\n",
    "df_frames = pd.read_hdf('../data/Frames_2004.h5')\n",
    "df_cov_03 = pd.read_hdf('../data/Covariance_2003.h5')\n",
    "df_cov_04 = pd.read_hdf('../data/Covariance_2004.h5')\n",
    "df_price_04 = pd.read_hdf('../data/Price_2004.h5')\n",
    "df_price_05 = pd.read_hdf('../data/Price_2005.h5')"
   ]
  },
  {
   "cell_type": "code",
   "execution_count": null,
   "id": "352f67bb",
   "metadata": {},
   "outputs": [],
   "source": []
  }
 ],
 "metadata": {
  "kernelspec": {
   "display_name": "Python 3 (ipykernel)",
   "language": "python",
   "name": "python3"
  },
  "language_info": {
   "codemirror_mode": {
    "name": "ipython",
    "version": 3
   },
   "file_extension": ".py",
   "mimetype": "text/x-python",
   "name": "python",
   "nbconvert_exporter": "python",
   "pygments_lexer": "ipython3",
   "version": "3.11.5"
  }
 },
 "nbformat": 4,
 "nbformat_minor": 5
}
