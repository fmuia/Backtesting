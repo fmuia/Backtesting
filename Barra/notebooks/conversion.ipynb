{
 "cells": [
  {
   "cell_type": "markdown",
   "id": "5cc4ee07",
   "metadata": {},
   "source": [
    "The strategy is to first import the pickle files as Dataframes, using an old version of pandas, then convert them to feather files and finally to h5 files that can be opened by more recent versions of pandas."
   ]
  },
  {
   "cell_type": "code",
   "execution_count": 82,
   "id": "692bba9f",
   "metadata": {},
   "outputs": [
    {
     "name": "stdout",
     "output_type": "stream",
     "text": [
      "2.0.3\n"
     ]
    }
   ],
   "source": [
    "import pandas as pd\n",
    "print(pd.__version__)"
   ]
  },
  {
   "cell_type": "code",
   "execution_count": 107,
   "id": "9ae3eed3",
   "metadata": {},
   "outputs": [],
   "source": [
    "import pandas as pd\n",
    "\n",
    "# Load the pickle file (update the path as necessary)\n",
    "\n",
    "dictionary = pd.read_pickle('../data/price.2005.pickle')\n"
   ]
  },
  {
   "cell_type": "code",
   "execution_count": 108,
   "id": "84945598",
   "metadata": {},
   "outputs": [],
   "source": [
    "# Save each DataFrame in the dictionary as a separate pickle file\n",
    "\n",
    "for key, df in dictionary.items():\n",
    "    file_name = f'../data/Price_2005_{key}.pkl'\n",
    "    df.to_pickle(file_name)\n",
    "    \n",
    "    "
   ]
  },
  {
   "cell_type": "code",
   "execution_count": 109,
   "id": "43b58afc",
   "metadata": {},
   "outputs": [],
   "source": [
    "# Save each DataFrame as a separate Feather file\n",
    "\n",
    "for key, df in dictionary.items():\n",
    "    file_name = f'../data/Price_2005_{key}.feather'\n",
    "    df.reset_index(inplace=True)  # Reset index if your DataFrame has a custom index\n",
    "    df.to_feather(file_name)"
   ]
  },
  {
   "cell_type": "code",
   "execution_count": 110,
   "id": "49e02342",
   "metadata": {},
   "outputs": [],
   "source": [
    "# Listing all Feather files\n",
    "\n",
    "feather_files = [f for f in os.listdir('../data') if f.endswith('.feather')]\n",
    "\n",
    "# Load and concatenate all DataFrames\n",
    "dataframes = [pd.read_feather(f'../data/{file}') for file in feather_files]\n",
    "combined_df = pd.concat(dataframes, ignore_index=True)"
   ]
  },
  {
   "cell_type": "code",
   "execution_count": 111,
   "id": "3b9252b3",
   "metadata": {},
   "outputs": [
    {
     "data": {
      "text/html": [
       "<div>\n",
       "<style scoped>\n",
       "    .dataframe tbody tr th:only-of-type {\n",
       "        vertical-align: middle;\n",
       "    }\n",
       "\n",
       "    .dataframe tbody tr th {\n",
       "        vertical-align: top;\n",
       "    }\n",
       "\n",
       "    .dataframe thead th {\n",
       "        text-align: right;\n",
       "    }\n",
       "</style>\n",
       "<table border=\"1\" class=\"dataframe\">\n",
       "  <thead>\n",
       "    <tr style=\"text-align: right;\">\n",
       "      <th></th>\n",
       "      <th>index</th>\n",
       "      <th>Barrid</th>\n",
       "      <th>DlyReturn</th>\n",
       "    </tr>\n",
       "  </thead>\n",
       "  <tbody>\n",
       "    <tr>\n",
       "      <th>0</th>\n",
       "      <td>149</td>\n",
       "      <td>USA0001</td>\n",
       "      <td>0.000000</td>\n",
       "    </tr>\n",
       "    <tr>\n",
       "      <th>1</th>\n",
       "      <td>150</td>\n",
       "      <td>USA0011</td>\n",
       "      <td>0.000000</td>\n",
       "    </tr>\n",
       "    <tr>\n",
       "      <th>2</th>\n",
       "      <td>151</td>\n",
       "      <td>USA0031</td>\n",
       "      <td>0.000000</td>\n",
       "    </tr>\n",
       "    <tr>\n",
       "      <th>3</th>\n",
       "      <td>152</td>\n",
       "      <td>USA0062</td>\n",
       "      <td>0.000000</td>\n",
       "    </tr>\n",
       "    <tr>\n",
       "      <th>4</th>\n",
       "      <td>153</td>\n",
       "      <td>USA00E2</td>\n",
       "      <td>0.000000</td>\n",
       "    </tr>\n",
       "    <tr>\n",
       "      <th>...</th>\n",
       "      <td>...</td>\n",
       "      <td>...</td>\n",
       "      <td>...</td>\n",
       "    </tr>\n",
       "    <tr>\n",
       "      <th>2997333</th>\n",
       "      <td>12479</td>\n",
       "      <td>USAZZP1</td>\n",
       "      <td>-0.004167</td>\n",
       "    </tr>\n",
       "    <tr>\n",
       "      <th>2997334</th>\n",
       "      <td>12480</td>\n",
       "      <td>USAZZR1</td>\n",
       "      <td>0.000000</td>\n",
       "    </tr>\n",
       "    <tr>\n",
       "      <th>2997335</th>\n",
       "      <td>12481</td>\n",
       "      <td>USAZZX1</td>\n",
       "      <td>-0.093750</td>\n",
       "    </tr>\n",
       "    <tr>\n",
       "      <th>2997336</th>\n",
       "      <td>12482</td>\n",
       "      <td>USAZZY1</td>\n",
       "      <td>-0.007526</td>\n",
       "    </tr>\n",
       "    <tr>\n",
       "      <th>2997337</th>\n",
       "      <td>12483</td>\n",
       "      <td>USAZZZ1</td>\n",
       "      <td>0.000399</td>\n",
       "    </tr>\n",
       "  </tbody>\n",
       "</table>\n",
       "<p>2997338 rows × 3 columns</p>\n",
       "</div>"
      ],
      "text/plain": [
       "         index   Barrid  DlyReturn\n",
       "0          149  USA0001   0.000000\n",
       "1          150  USA0011   0.000000\n",
       "2          151  USA0031   0.000000\n",
       "3          152  USA0062   0.000000\n",
       "4          153  USA00E2   0.000000\n",
       "...        ...      ...        ...\n",
       "2997333  12479  USAZZP1  -0.004167\n",
       "2997334  12480  USAZZR1   0.000000\n",
       "2997335  12481  USAZZX1  -0.093750\n",
       "2997336  12482  USAZZY1  -0.007526\n",
       "2997337  12483  USAZZZ1   0.000399\n",
       "\n",
       "[2997338 rows x 3 columns]"
      ]
     },
     "execution_count": 111,
     "metadata": {},
     "output_type": "execute_result"
    }
   ],
   "source": [
    "combined_df"
   ]
  },
  {
   "cell_type": "code",
   "execution_count": 112,
   "id": "735442ec",
   "metadata": {},
   "outputs": [],
   "source": [
    "# Convert columns with type 'IntegerArray' to 'float64'\n",
    "for col in combined_df.select_dtypes(include=[\"Int64\", \"Int32\"]).columns:\n",
    "    combined_df[col] = combined_df[col].astype(\"float64\")\n",
    "    "
   ]
  },
  {
   "cell_type": "code",
   "execution_count": 113,
   "id": "b376805d",
   "metadata": {},
   "outputs": [
    {
     "name": "stderr",
     "output_type": "stream",
     "text": [
      "/Users/fmuia/anaconda3/lib/python3.11/site-packages/tables/path.py:137: NaturalNameWarning: object name is not a valid Python identifier: '2005'; it does not match the pattern ``^[a-zA-Z_][a-zA-Z0-9_]*$``; you will not be able to use natural naming to access this object; using ``getattr()`` will still work, though\n",
      "  check_attribute_name(name)\n"
     ]
    }
   ],
   "source": [
    "combined_df.to_hdf('../data/Price_2005.h5', key='2005', mode='w')\n"
   ]
  },
  {
   "cell_type": "code",
   "execution_count": 2,
   "id": "947bfdac",
   "metadata": {},
   "outputs": [],
   "source": [
    "# Load the DataFrame from the HDF5 file\n",
    "import pandas as pd\n",
    "\n",
    "df = pd.read_hdf('../data/Price_2005.h5', key='2005')\n"
   ]
  },
  {
   "cell_type": "code",
   "execution_count": 3,
   "id": "0904b995",
   "metadata": {},
   "outputs": [
    {
     "data": {
      "text/html": [
       "<div>\n",
       "<style scoped>\n",
       "    .dataframe tbody tr th:only-of-type {\n",
       "        vertical-align: middle;\n",
       "    }\n",
       "\n",
       "    .dataframe tbody tr th {\n",
       "        vertical-align: top;\n",
       "    }\n",
       "\n",
       "    .dataframe thead th {\n",
       "        text-align: right;\n",
       "    }\n",
       "</style>\n",
       "<table border=\"1\" class=\"dataframe\">\n",
       "  <thead>\n",
       "    <tr style=\"text-align: right;\">\n",
       "      <th></th>\n",
       "      <th>index</th>\n",
       "      <th>Barrid</th>\n",
       "      <th>DlyReturn</th>\n",
       "    </tr>\n",
       "  </thead>\n",
       "  <tbody>\n",
       "    <tr>\n",
       "      <th>0</th>\n",
       "      <td>149.0</td>\n",
       "      <td>USA0001</td>\n",
       "      <td>0.000000</td>\n",
       "    </tr>\n",
       "    <tr>\n",
       "      <th>1</th>\n",
       "      <td>150.0</td>\n",
       "      <td>USA0011</td>\n",
       "      <td>0.000000</td>\n",
       "    </tr>\n",
       "    <tr>\n",
       "      <th>2</th>\n",
       "      <td>151.0</td>\n",
       "      <td>USA0031</td>\n",
       "      <td>0.000000</td>\n",
       "    </tr>\n",
       "    <tr>\n",
       "      <th>3</th>\n",
       "      <td>152.0</td>\n",
       "      <td>USA0062</td>\n",
       "      <td>0.000000</td>\n",
       "    </tr>\n",
       "    <tr>\n",
       "      <th>4</th>\n",
       "      <td>153.0</td>\n",
       "      <td>USA00E2</td>\n",
       "      <td>0.000000</td>\n",
       "    </tr>\n",
       "    <tr>\n",
       "      <th>...</th>\n",
       "      <td>...</td>\n",
       "      <td>...</td>\n",
       "      <td>...</td>\n",
       "    </tr>\n",
       "    <tr>\n",
       "      <th>2997333</th>\n",
       "      <td>12479.0</td>\n",
       "      <td>USAZZP1</td>\n",
       "      <td>-0.004167</td>\n",
       "    </tr>\n",
       "    <tr>\n",
       "      <th>2997334</th>\n",
       "      <td>12480.0</td>\n",
       "      <td>USAZZR1</td>\n",
       "      <td>0.000000</td>\n",
       "    </tr>\n",
       "    <tr>\n",
       "      <th>2997335</th>\n",
       "      <td>12481.0</td>\n",
       "      <td>USAZZX1</td>\n",
       "      <td>-0.093750</td>\n",
       "    </tr>\n",
       "    <tr>\n",
       "      <th>2997336</th>\n",
       "      <td>12482.0</td>\n",
       "      <td>USAZZY1</td>\n",
       "      <td>-0.007526</td>\n",
       "    </tr>\n",
       "    <tr>\n",
       "      <th>2997337</th>\n",
       "      <td>12483.0</td>\n",
       "      <td>USAZZZ1</td>\n",
       "      <td>0.000399</td>\n",
       "    </tr>\n",
       "  </tbody>\n",
       "</table>\n",
       "<p>2997338 rows × 3 columns</p>\n",
       "</div>"
      ],
      "text/plain": [
       "           index   Barrid  DlyReturn\n",
       "0          149.0  USA0001   0.000000\n",
       "1          150.0  USA0011   0.000000\n",
       "2          151.0  USA0031   0.000000\n",
       "3          152.0  USA0062   0.000000\n",
       "4          153.0  USA00E2   0.000000\n",
       "...          ...      ...        ...\n",
       "2997333  12479.0  USAZZP1  -0.004167\n",
       "2997334  12480.0  USAZZR1   0.000000\n",
       "2997335  12481.0  USAZZX1  -0.093750\n",
       "2997336  12482.0  USAZZY1  -0.007526\n",
       "2997337  12483.0  USAZZZ1   0.000399\n",
       "\n",
       "[2997338 rows x 3 columns]"
      ]
     },
     "execution_count": 3,
     "metadata": {},
     "output_type": "execute_result"
    }
   ],
   "source": [
    "df"
   ]
  },
  {
   "cell_type": "code",
   "execution_count": null,
   "id": "662bd5a5",
   "metadata": {},
   "outputs": [],
   "source": []
  }
 ],
 "metadata": {
  "kernelspec": {
   "display_name": "Python 3 (ipykernel)",
   "language": "python",
   "name": "python3"
  },
  "language_info": {
   "codemirror_mode": {
    "name": "ipython",
    "version": 3
   },
   "file_extension": ".py",
   "mimetype": "text/x-python",
   "name": "python",
   "nbconvert_exporter": "python",
   "pygments_lexer": "ipython3",
   "version": "3.11.5"
  }
 },
 "nbformat": 4,
 "nbformat_minor": 5
}
